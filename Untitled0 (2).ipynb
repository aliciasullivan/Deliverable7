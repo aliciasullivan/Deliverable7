{
  "nbformat": 4,
  "nbformat_minor": 0,
  "metadata": {
    "colab": {
      "provenance": []
    },
    "kernelspec": {
      "name": "python3",
      "display_name": "Python 3"
    },
    "language_info": {
      "name": "python"
    }
  },
  "cells": [
    {
      "cell_type": "code",
      "source": [
        "\n",
        "#Step 1: import libraries\n",
        "#Step 2: Ask the user to enter an integer value greater than 0\n",
        "#Step 3: Use a conditional statement to check the user’s entry is greater than 0\n",
        "#Step 4: Create a list for each sequence, and store the numbers of sequences. Lists should have the same length,  n (user's entry)\n",
        "#Step 5: Display your results in a data frame format\n",
        "\n",
        "import pandas as pd\n",
        "\n",
        "n = int(input(\"Enter an integer value greater than 0: \"))\n",
        "\n",
        "if n<=0: \n",
        "  print(\"invalid\")\n",
        "else:\n",
        "  even_list = [i*2 for i in range(n)]\n",
        "  odd_list = [i*2+1 for i in range(n)]\n",
        "  fib_list = [0, 1]\n",
        "  if n > 2:\n",
        "    for i in range(2, n):\n",
        "      fib_list.append(fib_list[i-1]+fib_list[i-2])\n",
        "\n",
        "df = pd.DataFrame({'Even': even_list, 'Odd': odd_list, 'Fibonacci': fib_list})\n",
        "print(df)"
      ],
      "metadata": {
        "colab": {
          "base_uri": "https://localhost:8080/"
        },
        "id": "AqKmycsAVh5n",
        "outputId": "d2aa75a6-c5c9-42fc-920a-3c70bae7add2"
      },
      "execution_count": 29,
      "outputs": [
        {
          "output_type": "stream",
          "name": "stdout",
          "text": [
            "Enter an integer value greater than 0: 4\n",
            "   Even  Odd  Fibonacci\n",
            "0     0    1          0\n",
            "1     2    3          1\n",
            "2     4    5          1\n",
            "3     6    7          2\n"
          ]
        }
      ]
    }
  ]
}